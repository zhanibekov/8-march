{
  "nbformat": 4,
  "nbformat_minor": 0,
  "metadata": {
    "colab": {
      "provenance": [],
      "authorship_tag": "ABX9TyPjCPQMcJ20IcpPSJ4HsMnl",
      "include_colab_link": true
    },
    "kernelspec": {
      "name": "python3",
      "display_name": "Python 3"
    },
    "language_info": {
      "name": "python"
    }
  },
  "cells": [
    {
      "cell_type": "markdown",
      "metadata": {
        "id": "view-in-github",
        "colab_type": "text"
      },
      "source": [
        "<a href=\"https://colab.research.google.com/github/zhanibekov/8-march/blob/main/Untitled7.ipynb\" target=\"_parent\"><img src=\"https://colab.research.google.com/assets/colab-badge.svg\" alt=\"Open In Colab\"/></a>"
      ]
    },
    {
      "cell_type": "code",
      "execution_count": null,
      "metadata": {
        "id": "fA-DZyaynLIL"
      },
      "outputs": [],
      "source": [
        "import pandas as pd\n",
        "\n",
        "df = pd.DataFrame({\n",
        "    \"booking_id\": [1001, 1002, 1003, 1004, 1005],\n",
        "    \"property\" : [\"A\", \"A\", \"B\", \"B\", \"C\"],\n",
        "    \"created_at\": [\"2022-03-01\", \"2022-02-10\", \"2022-04-12\",\n",
        "                   \"2022-04-11\", \"2022-06-05\"],\n",
        "    \"checkin_date\": [\"2022-06-01\", \"2022-06-10\", \"2022-06-02\",\n",
        "                     \"2022-06-20\", \"2022-08-10\"],\n",
        "    \"checkout_date\": [\"2022-06-06\", \"2022-06-15\", \n",
        "                      \"2022-06-06\",\"2022-06-28\", \"2022-08-16\"],\n",
        "    \"amount\": [5400, 5600, 4800, 9000, 6500]\n",
        "})\n",
        "# изменение типа данных \n",
        "date_cols = [\"created_at\",\"checkin_date\",\"checkout_date\"]\n",
        "df[date_cols] = df[date_cols].astype(\"datetime64[ns]\")\n",
        "# вывод объекта DataFrame\n",
        "df"
      ]
    },
    {
      "cell_type": "code",
      "source": [],
      "metadata": {
        "id": "LpTGQT78ncJL"
      },
      "execution_count": null,
      "outputs": []
    }
  ]
}